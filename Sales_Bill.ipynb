{
 "cells": [
  {
   "cell_type": "code",
   "execution_count": 54,
   "metadata": {},
   "outputs": [],
   "source": [
    "def sale_bill(order,file):\n",
    "    total = 0\n",
    "    i = 1\n",
    "    file.write(\"SALES BILLING \\n\\n\")\n",
    "    file.write(f'{\"S.NO\":{7}}{\"ITEM NAME\":^32} {\"QUANTITY\":^12}{\"RATE\":^12}{\"AMOUNT\":>3}' +'\\n')\n",
    "    for item, price in order.items():\n",
    "        total_p = price[1]*price[0]\n",
    "        file.write(f'{i:{7}}{item:^32} {price[0]:^12} {price[1]:^12} {total_p:>3}'+'\\n')\n",
    "        i += 1\n",
    "        total += total_p\n",
    "   \n",
    "    file.write('\\n'+'Total = '+ format(total, '.2f')+'\\n')\n",
    "    file.close()\n"
   ]
  },
  {
   "cell_type": "code",
   "execution_count": 58,
   "metadata": {},
   "outputs": [
    {
     "name": "stdout",
     "output_type": "stream",
     "text": [
      "Bill Generated\n"
     ]
    }
   ],
   "source": [
    "# Pre-defined inputs\n",
    "bill = {\"Tea\" :[1,20] , \"Cold Coffee\" : [2,80] , \"Cappuccino\" : [1,120] , \"Sandwich\" : [4,60]}\n",
    "file = open('sale.txt', 'w')\n",
    "sale_bill(bill,file)\n",
    "print(\"Bill Generated\")"
   ]
  },
  {
   "cell_type": "code",
   "execution_count": 56,
   "metadata": {},
   "outputs": [
    {
     "name": "stdout",
     "output_type": "stream",
     "text": [
      "Enter number of items :- 3\n",
      "Enter Name of Item :- Coffee\n",
      "Enter the quantity of Item :- 2\n",
      "Enter the price of the Item :- 120\n",
      "Enter Name of Item :- Tea\n",
      "Enter the quantity of Item :- 2\n",
      "Enter the price of the Item :- 60\n",
      "Enter Name of Item :- Sandwich\n",
      "Enter the quantity of Item :- 4\n",
      "Enter the price of the Item :- 90\n",
      "Bill Generated\n"
     ]
    }
   ],
   "source": [
    "# User inputs\n",
    "\n",
    "n = int(input(\"Enter number of items :- \"))\n",
    "bills = {}\n",
    "name = []\n",
    "qt_pr = []\n",
    "for i in range(n):\n",
    "    # user input one at a time\n",
    "    it_nm = input(\"Enter Name of Item :- \")\n",
    "    it_q = int(input(\"Enter the quantity of Item :- \"))\n",
    "    it_p = int(input(\"Enter the price of the Item :- \"))\n",
    "    name.append(it_nm)\n",
    "    qt_pr.append([it_q,it_p])\n",
    "    bills[name[i]] = qt_pr[i]\n",
    "\n",
    "file = open('sales.txt', 'w')\n",
    "sale_bill(bills,file)\n",
    "print(\"Bill Generated\")"
   ]
  }
 ],
 "metadata": {
  "kernelspec": {
   "display_name": "Python 3",
   "language": "python",
   "name": "python3"
  },
  "language_info": {
   "codemirror_mode": {
    "name": "ipython",
    "version": 3
   },
   "file_extension": ".py",
   "mimetype": "text/x-python",
   "name": "python",
   "nbconvert_exporter": "python",
   "pygments_lexer": "ipython3",
   "version": "3.8.5"
  }
 },
 "nbformat": 4,
 "nbformat_minor": 4
}
