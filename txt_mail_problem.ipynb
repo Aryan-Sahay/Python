{
 "cells": [
  {
   "cell_type": "code",
   "execution_count": 23,
   "metadata": {},
   "outputs": [
    {
     "name": "stdout",
     "output_type": "stream",
     "text": [
      "{'Gmail': 12, 'Yahoo': 16, 'Outlook': 18, 'Government': 14}\n"
     ]
    }
   ],
   "source": [
    "#with recursion\n",
    "\n",
    "def mail(c):\n",
    "    ge = y = o = go = 0\n",
    "    \n",
    "    for i in c:\n",
    "        if \"gmail.com\" in i:\n",
    "            ge += 1\n",
    "        elif \"outlook.com\" in i:\n",
    "            o += 1\n",
    "        elif \"gov.in\" in i:\n",
    "            go += 1\n",
    "        elif \"yahoo.com\" in i:\n",
    "            y += 1\n",
    "            \n",
    "    keys = [\"Gmail\",\"Yahoo\",\"Outlook\",\"Government\"]\n",
    "    values = [ge,y,o,go]\n",
    "    dict_mail = dict(zip(keys,values))\n",
    "    \n",
    "    return dict_mail\n",
    "\n",
    "fl = open(\"Mail.txt\",\"r\")\n",
    "c = fl.read().splitlines()\n",
    "print(mail(c))    "
   ]
  },
  {
   "cell_type": "code",
   "execution_count": 24,
   "metadata": {},
   "outputs": [
    {
     "name": "stdout",
     "output_type": "stream",
     "text": [
      "{'Gmail': 12, 'Yahoo': 16, 'Outlook': 18, 'Government': 14}\n"
     ]
    }
   ],
   "source": [
    "#without recusion\n",
    "fl = open(\"Mail.txt\",\"r\")\n",
    "c = fl.read().splitlines()\n",
    "ge = y = o = go = 0\n",
    "\n",
    "for i in range(len(c)):\n",
    "    if \"gmail.com\" in c[i]:\n",
    "        ge += 1\n",
    "    elif \"outlook.com\" in c[i]:\n",
    "        o += 1\n",
    "    elif \"gov.in\" in c[i]:\n",
    "        go += 1\n",
    "    elif \"yahoo.com\" in c[i]:\n",
    "        y += 1\n",
    "\n",
    "keys = [\"Gmail\",\"Yahoo\",\"Outlook\",\"Government\"]\n",
    "values = [ge,y,o,go]\n",
    "dict_mail = dict(zip(keys,values))\n",
    "\n",
    "print(dict_mail)"
   ]
  }
 ],
 "metadata": {
  "kernelspec": {
   "display_name": "Python 3",
   "language": "python",
   "name": "python3"
  },
  "language_info": {
   "codemirror_mode": {
    "name": "ipython",
    "version": 3
   },
   "file_extension": ".py",
   "mimetype": "text/x-python",
   "name": "python",
   "nbconvert_exporter": "python",
   "pygments_lexer": "ipython3",
   "version": "3.8.5"
  }
 },
 "nbformat": 4,
 "nbformat_minor": 4
}
