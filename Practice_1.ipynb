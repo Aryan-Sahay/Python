{
 "cells": [
  {
   "cell_type": "code",
   "execution_count": 3,
   "metadata": {},
   "outputs": [
    {
     "name": "stdout",
     "output_type": "stream",
     "text": [
      "Enter distance in kilometre : 12\n",
      "The converted distance of 12.0 kilometre in miles is :  7.45645\n"
     ]
    }
   ],
   "source": [
    "#km to miles\n",
    "\n",
    "km = float(input(\"Enter distance in kilometre : \"))\n",
    "mile = float(km * 0.621371)\n",
    "print(\"The converted distance of\",km,\"kilometre in miles is : \",round(mile,5))"
   ]
  },
  {
   "cell_type": "code",
   "execution_count": 5,
   "metadata": {},
   "outputs": [
    {
     "name": "stdout",
     "output_type": "stream",
     "text": [
      "Enter temprature in celcius : 45\n",
      "The converted temprature of 45.0 'C in farenheit is :  113.0\n"
     ]
    }
   ],
   "source": [
    "#celcius to farenheit\n",
    "\n",
    "c = float(input(\"Enter temprature in celcius : \"))\n",
    "f = float(((c*9)/5)+32)\n",
    "print(\"The converted temprature of\",c,\"'C in farenheit is : \",round(f,3))"
   ]
  },
  {
   "cell_type": "code",
   "execution_count": 8,
   "metadata": {},
   "outputs": [
    {
     "name": "stdout",
     "output_type": "stream",
     "text": [
      "Enter a number : 0\n",
      "Zero\n"
     ]
    }
   ],
   "source": [
    "#check positive negetive or zero\n",
    "\n",
    "n = int(input(\"Enter a number : \"))\n",
    "if (n == 0):\n",
    "    print(\"Zero\")\n",
    "elif (n > 0):\n",
    "    print(\"Positive\")\n",
    "else:\n",
    "    print(\"Negetive\")"
   ]
  },
  {
   "cell_type": "code",
   "execution_count": 10,
   "metadata": {},
   "outputs": [
    {
     "name": "stdout",
     "output_type": "stream",
     "text": [
      "Enter any number : 12\n",
      "Even\n"
     ]
    }
   ],
   "source": [
    "#odd or even\n",
    "\n",
    "n = int(input(\"Enter any number : \"))\n",
    "if (n%2 == 0):\n",
    "    print(\"Even\")\n",
    "else :\n",
    "    print(\"Odd\")"
   ]
  },
  {
   "cell_type": "code",
   "execution_count": 13,
   "metadata": {},
   "outputs": [
    {
     "name": "stdout",
     "output_type": "stream",
     "text": [
      "Enter any year : 1990\n",
      "It is not a Leap Year\n"
     ]
    }
   ],
   "source": [
    "#leap year\n",
    "\n",
    "y = int(input(\"Enter any year : \"))\n",
    "if (y%4 == 0):\n",
    "    print(\"It is a Leap Year\")\n",
    "else : \n",
    "    print(\"It is not a Leap Year\")"
   ]
  }
 ],
 "metadata": {
  "kernelspec": {
   "display_name": "Python 3",
   "language": "python",
   "name": "python3"
  },
  "language_info": {
   "codemirror_mode": {
    "name": "ipython",
    "version": 3
   },
   "file_extension": ".py",
   "mimetype": "text/x-python",
   "name": "python",
   "nbconvert_exporter": "python",
   "pygments_lexer": "ipython3",
   "version": "3.8.5"
  }
 },
 "nbformat": 4,
 "nbformat_minor": 4
}
