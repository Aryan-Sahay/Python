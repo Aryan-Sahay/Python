{
 "cells": [
  {
   "cell_type": "code",
   "execution_count": 2,
   "metadata": {},
   "outputs": [
    {
     "name": "stdout",
     "output_type": "stream",
     "text": [
      "Enter a string : Hello\n",
      "Hello\n"
     ]
    }
   ],
   "source": [
    "s = input(\"Enter a string : \")\n",
    "print(s)"
   ]
  },
  {
   "cell_type": "code",
   "execution_count": 6,
   "metadata": {},
   "outputs": [
    {
     "name": "stdout",
     "output_type": "stream",
     "text": [
      "Enter an integer : 42\n",
      "42\n"
     ]
    }
   ],
   "source": [
    "i = int(input(\"Enter an integer : \"))\n",
    "print(i)"
   ]
  },
  {
   "cell_type": "code",
   "execution_count": 4,
   "metadata": {},
   "outputs": [
    {
     "name": "stdout",
     "output_type": "stream",
     "text": [
      "Enter a float : 2.5043\n",
      "2.5043\n"
     ]
    }
   ],
   "source": [
    "f = float(input(\"Enter a float : \"))\n",
    "print(f)"
   ]
  },
  {
   "cell_type": "code",
   "execution_count": 18,
   "metadata": {},
   "outputs": [
    {
     "name": "stdout",
     "output_type": "stream",
     "text": [
      "20 30 40\n"
     ]
    }
   ],
   "source": [
    "x,y,z = 20,30,40\n",
    "print(x,y,z)"
   ]
  },
  {
   "cell_type": "code",
   "execution_count": 20,
   "metadata": {},
   "outputs": [
    {
     "name": "stdout",
     "output_type": "stream",
     "text": [
      "40 40 40\n"
     ]
    }
   ],
   "source": [
    "x=y=z= 40\n",
    "print(x,y,z)"
   ]
  },
  {
   "cell_type": "code",
   "execution_count": 10,
   "metadata": {},
   "outputs": [
    {
     "name": "stdout",
     "output_type": "stream",
     "text": [
      "Enter an integer : 24\n",
      "First value of a :-  24\n",
      "First value of b :-  12\n",
      "Changed value of a :-  36\n"
     ]
    }
   ],
   "source": [
    "#Sum Assignment\n",
    "\n",
    "a = int(input(\"Enter an integer : \"))\n",
    "print(\"First value of a :- \",a)\n",
    "b = 12\n",
    "print(\"First value of b :- \",b)\n",
    "a += b\n",
    "print(\"Changed value of a :- \",a)"
   ]
  },
  {
   "cell_type": "code",
   "execution_count": 11,
   "metadata": {},
   "outputs": [
    {
     "name": "stdout",
     "output_type": "stream",
     "text": [
      "Enter an integer : 48\n",
      "First value of a :-  48\n",
      "First value of b :-  12\n",
      "Changed value of a :-  36\n"
     ]
    }
   ],
   "source": [
    "#Difference Assignment\n",
    "\n",
    "a = int(input(\"Enter an integer : \"))\n",
    "print(\"First value of a :- \",a)\n",
    "b = 12\n",
    "print(\"First value of b :- \",b)\n",
    "a -= b\n",
    "print(\"Changed value of a :- \",a)"
   ]
  },
  {
   "cell_type": "code",
   "execution_count": 12,
   "metadata": {},
   "outputs": [
    {
     "name": "stdout",
     "output_type": "stream",
     "text": [
      "Enter an integer : 12\n",
      "First value of a :-  12\n",
      "First value of b :-  5\n",
      "Changed value of a :-  60\n"
     ]
    }
   ],
   "source": [
    "#Product Assignment\n",
    "\n",
    "a = int(input(\"Enter an integer : \"))\n",
    "print(\"First value of a :- \",a)\n",
    "b = 5\n",
    "print(\"First value of b :- \",b)\n",
    "a *= b\n",
    "print(\"Changed value of a :- \",a)"
   ]
  },
  {
   "cell_type": "code",
   "execution_count": 13,
   "metadata": {},
   "outputs": [
    {
     "name": "stdout",
     "output_type": "stream",
     "text": [
      "Enter an integer : 48\n",
      "First value of a :-  48\n",
      "First value of b :-  12\n",
      "Changed value of a :-  4.0\n"
     ]
    }
   ],
   "source": [
    "#Quotient Assignment\n",
    "\n",
    "a = int(input(\"Enter an integer : \"))\n",
    "print(\"First value of a :- \",a)\n",
    "b = 12\n",
    "print(\"First value of b :- \",b)\n",
    "a /= b\n",
    "print(\"Changed value of a :- \",a)"
   ]
  },
  {
   "cell_type": "code",
   "execution_count": 14,
   "metadata": {},
   "outputs": [
    {
     "name": "stdout",
     "output_type": "stream",
     "text": [
      "Enter an integer : 48\n",
      "First value of a :-  48\n",
      "First value of b :-  12\n",
      "Changed value of a :-  0\n"
     ]
    }
   ],
   "source": [
    "#Remainder Assignment\n",
    "\n",
    "a = int(input(\"Enter an integer : \"))\n",
    "print(\"First value of a :- \",a)\n",
    "b = 12\n",
    "print(\"First value of b :- \",b)\n",
    "a %= b\n",
    "print(\"Changed value of a :- \",a)"
   ]
  },
  {
   "cell_type": "code",
   "execution_count": 15,
   "metadata": {},
   "outputs": [
    {
     "name": "stdout",
     "output_type": "stream",
     "text": [
      "Enter an integer : 48\n",
      "First value of a :-  48\n",
      "First value of b :-  12\n",
      "Changed value of a :-  4\n"
     ]
    }
   ],
   "source": [
    "#FloorDivision Assignment\n",
    "\n",
    "a = int(input(\"Enter an integer : \"))\n",
    "print(\"First value of a :- \",a)\n",
    "b = 12\n",
    "print(\"First value of b :- \",b)\n",
    "a //= b\n",
    "print(\"Changed value of a :- \",a)"
   ]
  },
  {
   "cell_type": "code",
   "execution_count": 17,
   "metadata": {},
   "outputs": [
    {
     "name": "stdout",
     "output_type": "stream",
     "text": [
      "Enter an integer : 3\n",
      "First value of a :-  3\n",
      "First value of b :-  3\n",
      "Changed value of a :-  27\n"
     ]
    }
   ],
   "source": [
    "#Exponent Assignment\n",
    "\n",
    "a = int(input(\"Enter an integer : \"))\n",
    "print(\"First value of a :- \",a)\n",
    "b = 3\n",
    "print(\"First value of b :- \",b)\n",
    "a **= b\n",
    "print(\"Changed value of a :- \",a)"
   ]
  },
  {
   "cell_type": "code",
   "execution_count": null,
   "metadata": {},
   "outputs": [],
   "source": []
  }
 ],
 "metadata": {
  "kernelspec": {
   "display_name": "Python 3",
   "language": "python",
   "name": "python3"
  },
  "language_info": {
   "codemirror_mode": {
    "name": "ipython",
    "version": 3
   },
   "file_extension": ".py",
   "mimetype": "text/x-python",
   "name": "python",
   "nbconvert_exporter": "python",
   "pygments_lexer": "ipython3",
   "version": "3.8.5"
  }
 },
 "nbformat": 4,
 "nbformat_minor": 4
}
